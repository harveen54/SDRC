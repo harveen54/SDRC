{
 "cells": [
  {
   "cell_type": "code",
   "execution_count": 1,
   "metadata": {},
   "outputs": [
    {
     "ename": "ImportError",
     "evalue": "No module named 'RPi'",
     "output_type": "error",
     "traceback": [
      "\u001b[1;31m---------------------------------------------------------------------------\u001b[0m",
      "\u001b[1;31mImportError\u001b[0m                               Traceback (most recent call last)",
      "\u001b[1;32m<ipython-input-1-9f864375fc91>\u001b[0m in \u001b[0;36m<module>\u001b[1;34m()\u001b[0m\n\u001b[1;32m----> 1\u001b[1;33m \u001b[1;32mimport\u001b[0m \u001b[0mRPi\u001b[0m\u001b[1;33m.\u001b[0m\u001b[0mGPIO\u001b[0m \u001b[1;32mas\u001b[0m \u001b[0mio\u001b[0m\u001b[1;33m\u001b[0m\u001b[0m\n\u001b[0m",
      "\u001b[1;31mImportError\u001b[0m: No module named 'RPi'"
     ]
    }
   ],
   "source": [
    "import RPi.GPIO as io\n",
    "io.setmode(io.BCM)\n",
    "import sys, tty, termios, time"
   ]
  },
  {
   "cell_type": "code",
   "execution_count": null,
   "metadata": {},
   "outputs": [],
   "source": [
    "# These two blocks of code configure the PWM settings for\n",
    "# the two DC motors on the RC car. It defines the two GPIO\n",
    "# pins used for the input, starts the PWM and sets the\n",
    "# motors' speed to 0\n",
    "motor1_in1_pin = 4\n",
    "motor1_in2_pin = 17\n",
    "io.setup(motor1_in1_pin, io.OUT)\n",
    "io.setup(motor1_in2_pin, io.OUT)\n",
    "motor1 = io.PWM(4,100)\n",
    "motor1.start(0)\n",
    "motor1.ChangeDutyCycle(0)\n",
    "\n",
    "motor2_in1_pin = 24\n",
    "motor2_in2_pin = 25\n",
    "io.setup(motor2_in1_pin, io.OUT)\n",
    "io.setup(motor2_in2_pin, io.OUT)\n",
    "motor2 = io.PWM(4,100)\n",
    "motor2.start(0)\n",
    "motor2.ChangeDutyCycle(0)"
   ]
  },
  {
   "cell_type": "code",
   "execution_count": null,
   "metadata": {},
   "outputs": [],
   "source": [
    "# The getch method can determine which key has been pressed\n",
    "# by the user on the keyboard by accessing the system files\n",
    "# It will then return the pressed key as a variable\n",
    "def getch():\n",
    "    fd = sys.stdin.fileno()\n",
    "    old_settings = termios.tcgetattr(fd)\n",
    "    try:\n",
    "        tty.setraw(sys.stdin.fileno())\n",
    "        ch = sys.stdin.read(1)\n",
    "    finally:\n",
    "        termios.tcsetattr(fd, termios.TCSADRAIN, old_settings)\n",
    "    return ch"
   ]
  },
  {
   "cell_type": "code",
   "execution_count": null,
   "metadata": {},
   "outputs": [],
   "source": [
    "# This section of code defines the methods used to determine\n",
    "# whether a motor needs to spin forward or backwards. The\n",
    "# different directions are acheived by setting one of the\n",
    "# GPIO pins to true and the other to false. If the status of\n",
    "# both pins match, the motor will not turn.\n",
    "def motor1_forward():\n",
    "    io.output(motor1_in1_pin, True)\n",
    "    io.output(motor1_in2_pin, False)\n",
    "\n",
    "def motor1_reverse():\n",
    "    io.output(motor1_in1_pin, False)\n",
    "    io.output(motor1_in2_pin, True)\n",
    "\n",
    "def motor2_forward():\n",
    "    io.output(motor2_in1_pin, True)\n",
    "    io.output(motor2_in2_pin, False)\n",
    "\n",
    "def motor2_reverse():\n",
    "    io.output(motor2_in1_pin, False)\n",
    "    io.output(motor2_in2_pin, True)"
   ]
  },
  {
   "cell_type": "code",
   "execution_count": null,
   "metadata": {},
   "outputs": [],
   "source": [
    "# This method will toggle the direction of the steering\n",
    "# motor. The method will determine whether the user wants\n",
    "# to turn left or right depending on the key they press and\n",
    "# then make the appropriate adjustment. It works as a toggle\n",
    "# because the program cannot read multiple pressed keys at\n",
    "# the same time. The possible positions of the wheels are\n",
    "# \"right\", \"centre\" and \"left\". It will then update the\n",
    "# status of the wheel to access next time it is called.\n",
    "def toggleSteering(direction):\n",
    "\n",
    "    global wheelStatus\n",
    "\n",
    "    if(direction == \"right\"):\n",
    "        if(wheelStatus == \"centre\"):\n",
    "            motor1_forward()\n",
    "            motor1.ChangeDutyCycle(99)\n",
    "            wheelStatus = \"right\"\n",
    "        elif(wheelStatus == \"left\"):\n",
    "            motor1.ChangeDutyCycle(0)\n",
    "            wheelStatus = \"centre\"\n",
    "\n",
    "    if(direction == \"left\"):\n",
    "        if(wheelStatus == \"centre\"):\n",
    "            motor1_reverse()\n",
    "            motor1.ChangeDutyCycle(99)\n",
    "            wheelStatus = \"left\"\n",
    "        elif(wheelStatus == \"right\"):\n",
    "            motor1.ChangeDutyCycle(0)\n",
    "            wheelStatus = \"centre\"\n"
   ]
  },
  {
   "cell_type": "code",
   "execution_count": null,
   "metadata": {},
   "outputs": [],
   "source": [
    "# Setting the PWM pins to false so the motors will not move\n",
    "# until the user presses the first key\n",
    "io.output(motor1_in1_pin, False)\n",
    "io.output(motor1_in2_pin, False)\n",
    "io.output(motor2_in1_pin, False)\n",
    "io.output(motor2_in2_pin, False)\n",
    "\n",
    "wheelStatus = \"centre\""
   ]
  },
  {
   "cell_type": "code",
   "execution_count": null,
   "metadata": {},
   "outputs": [],
   "source": [
    "# Instructions for when the user has an interface\n",
    "print(\"w/s: acceleration\")\n",
    "print(\"a/d: steering\")\n",
    "print(\"x: exit\")"
   ]
  },
  {
   "cell_type": "code",
   "execution_count": null,
   "metadata": {},
   "outputs": [],
   "source": [
    "# Infinite loop that will not end until the user presses the\n",
    "# exit key\n",
    "while True:\n",
    "    # Keyboard character retrieval method is called and saved\n",
    "    # into variable\n",
    "    char = getch()\n",
    "\n",
    "    # The car will drive forward when the \"w\" key is pressed\n",
    "    if(char == \"w\"):\n",
    "        motor2_forward()\n",
    "        motor2.ChangeDutyCycle(99)\n",
    "\n",
    "    # The car will reverse when the \"s\" key is pressed\n",
    "    if(char == \"s\"):\n",
    "        motor2_reverse()\n",
    "        motor2.ChangeDutyCycle(99)\n",
    "\n",
    "    # The \"a\" key will toggle the steering left\n",
    "    if(char == \"a\"):\n",
    "        toggleSteering(\"left\")\n",
    "\n",
    "    # The \"d\" key will toggle the steering right\n",
    "    if(char == \"d\"):\n",
    "        toggleSteering(\"right\")\n",
    "\n",
    "    # The \"l\" key will toggle the LEDs on/off\n",
    "    if(char == \"l\"):\n",
    "        toggleLights()\n",
    "\n",
    "    # The \"x\" key will break the loop and exit the program\n",
    "    if(char == \"x\"):\n",
    "        print(\"Program Ended\")\n",
    "        break\n",
    "\n",
    "    # At the end of each loop the acceleration motor will stop\n",
    "    # and wait for its next command\n",
    "    motor2.ChangeDutyCycle(0)\n",
    "\n",
    "    # The keyboard character variable will be set to blank, ready\n",
    "    # to save the next key that is pressed\n",
    "    char = \"\"\n",
    "\n",
    "# Program will cease all GPIO activity before terminating\n",
    "io.cleanup()"
   ]
  }
 ],
 "metadata": {
  "kernelspec": {
   "display_name": "Python 3",
   "language": "python",
   "name": "python3"
  },
  "language_info": {
   "codemirror_mode": {
    "name": "ipython",
    "version": 3
   },
   "file_extension": ".py",
   "mimetype": "text/x-python",
   "name": "python",
   "nbconvert_exporter": "python",
   "pygments_lexer": "ipython3",
   "version": "3.5.2"
  },
  "widgets": {
   "state": {},
   "version": "1.1.2"
  }
 },
 "nbformat": 4,
 "nbformat_minor": 2
}
